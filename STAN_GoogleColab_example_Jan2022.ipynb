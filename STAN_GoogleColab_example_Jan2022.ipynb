{
  "nbformat": 4,
  "nbformat_minor": 0,
  "metadata": {
    "colab": {
      "name": "STAN-R-jan2022.ipynb",
      "provenance": [],
      "collapsed_sections": [],
      "include_colab_link": true
    },
    "kernelspec": {
      "name": "ir",
      "display_name": "R"
    }
  },
  "cells": [
    {
      "cell_type": "markdown",
      "metadata": {
        "id": "view-in-github",
        "colab_type": "text"
      },
      "source": [
        "<a href=\"https://colab.research.google.com/github/meijaj/meijaj/blob/main/STAN_GoogleColab_example_Jan2022.ipynb\" target=\"_parent\"><img src=\"https://colab.research.google.com/assets/colab-badge.svg\" alt=\"Open In Colab\"/></a>"
      ]
    },
    {
      "cell_type": "code",
      "metadata": {
        "id": "SPYGePw53fWq"
      },
      "source": [
        "# Install package CmdStanR from GitHub\n",
        "library(devtools)\n",
        "devtools::install_github(\"stan-dev/cmdstanr\", dependencies=c(\"Depends\", \"Imports\"))\n",
        "library(cmdstanr)\n",
        "# Install CmdStan binaries\n",
        "if (!file.exists(\"cmdstan-2.23.0.tar.gz\")) {\n",
        "  system(\"wget https://github.com/stan-dev/cmdstan/releases/download/v2.23.0/colab-cmdstan-2.23.0.tar.gz\", intern=T)\n",
        "  system(\"tar zxf colab-cmdstan-2.23.0.tar.gz\", intern=T)\n",
        "}\n",
        "# Set cmdstan_path to CmdStan installation\n",
        "set_cmdstan_path(\"cmdstan-2.23.0\")"
      ],
      "execution_count": null,
      "outputs": []
    },
    {
      "cell_type": "markdown",
      "source": [
        "**Atomic weight of tellurium (Clarke 1897)**"
      ],
      "metadata": {
        "id": "8iVQCntYplcw"
      }
    },
    {
      "cell_type": "code",
      "source": [
        "# Random effects statistical model (Stan)\n",
        "model <- \"\n",
        "data {\n",
        "  int<lower=0> N;\n",
        "  vector[N] A;\n",
        "  vector<lower=0>[N] uA;\n",
        "}\n",
        "parameters {\n",
        "  real A_consensus;\n",
        "  real<lower=0> dark_unc;\n",
        "}\n",
        "model {\n",
        "  A_consensus ~ normal(127,10); // vague prior on the consensus value\n",
        "  dark_unc ~ cauchy(0, 10);     // vague prior on the overdispersion (dark uncertainty)\n",
        "  // likelihood \n",
        "  for(i in 1:N) A[i] ~ normal(A_consensus, sqrt(uA[i]^2 + dark_unc^2));\n",
        "}\n",
        "\"\n",
        "\n",
        "model_file <- write_stan_file(model)"
      ],
      "metadata": {
        "id": "BBGDMkKsshVl"
      },
      "execution_count": 9,
      "outputs": []
    },
    {
      "cell_type": "code",
      "source": [
        "# Compile the Stan model\n",
        "model <- cmdstan_model(stan_file=model_file)\n",
        "# Specify data\n",
        "data <- list(N = 6, A = c(127.040, 126.303, 126.209, 126.650, 126.502, 125.960),\n",
        "uA = c(0.024, 0.036, 0.020, 0.045, 0.212, 0.233))\n",
        "# Fit the model to the data\n",
        "fit <- model$sample(data = data)"
      ],
      "metadata": {
        "id": "FxumB9eSaTeo",
        "colab": {
          "base_uri": "https://localhost:8080/"
        },
        "outputId": "6937bec0-b609-4ca7-a5bb-be90c661e82e"
      },
      "execution_count": 25,
      "outputs": [
        {
          "output_type": "stream",
          "name": "stdout",
          "text": [
            "Running MCMC with 4 sequential chains...\n",
            "\n",
            "Chain 1 Iteration:    1 / 2000 [  0%]  (Warmup) \n",
            "Chain 1 Iteration:  100 / 2000 [  5%]  (Warmup) \n",
            "Chain 1 Iteration:  200 / 2000 [ 10%]  (Warmup) \n",
            "Chain 1 Iteration:  300 / 2000 [ 15%]  (Warmup) \n",
            "Chain 1 Iteration:  400 / 2000 [ 20%]  (Warmup) \n",
            "Chain 1 Iteration:  500 / 2000 [ 25%]  (Warmup) \n",
            "Chain 1 Iteration:  600 / 2000 [ 30%]  (Warmup) \n",
            "Chain 1 Iteration:  700 / 2000 [ 35%]  (Warmup) \n",
            "Chain 1 Iteration:  800 / 2000 [ 40%]  (Warmup) \n",
            "Chain 1 Iteration:  900 / 2000 [ 45%]  (Warmup) \n",
            "Chain 1 Iteration: 1000 / 2000 [ 50%]  (Warmup) \n",
            "Chain 1 Iteration: 1001 / 2000 [ 50%]  (Sampling) \n",
            "Chain 1 Iteration: 1100 / 2000 [ 55%]  (Sampling) \n",
            "Chain 1 Iteration: 1200 / 2000 [ 60%]  (Sampling) \n",
            "Chain 1 Iteration: 1300 / 2000 [ 65%]  (Sampling) \n",
            "Chain 1 Iteration: 1400 / 2000 [ 70%]  (Sampling) \n",
            "Chain 1 Iteration: 1500 / 2000 [ 75%]  (Sampling) \n",
            "Chain 1 Iteration: 1600 / 2000 [ 80%]  (Sampling) \n",
            "Chain 1 Iteration: 1700 / 2000 [ 85%]  (Sampling) \n",
            "Chain 1 Iteration: 1800 / 2000 [ 90%]  (Sampling) \n",
            "Chain 1 Iteration: 1900 / 2000 [ 95%]  (Sampling) \n",
            "Chain 1 Iteration: 2000 / 2000 [100%]  (Sampling) \n",
            "Chain 1 finished in 0.0 seconds.\n",
            "Chain 2 Iteration:    1 / 2000 [  0%]  (Warmup) \n",
            "Chain 2 Iteration:  100 / 2000 [  5%]  (Warmup) \n",
            "Chain 2 Iteration:  200 / 2000 [ 10%]  (Warmup) \n",
            "Chain 2 Iteration:  300 / 2000 [ 15%]  (Warmup) \n",
            "Chain 2 Iteration:  400 / 2000 [ 20%]  (Warmup) \n",
            "Chain 2 Iteration:  500 / 2000 [ 25%]  (Warmup) \n",
            "Chain 2 Iteration:  600 / 2000 [ 30%]  (Warmup) \n",
            "Chain 2 Iteration:  700 / 2000 [ 35%]  (Warmup) \n",
            "Chain 2 Iteration:  800 / 2000 [ 40%]  (Warmup) \n",
            "Chain 2 Iteration:  900 / 2000 [ 45%]  (Warmup) \n",
            "Chain 2 Iteration: 1000 / 2000 [ 50%]  (Warmup) \n",
            "Chain 2 Iteration: 1001 / 2000 [ 50%]  (Sampling) \n",
            "Chain 2 Iteration: 1100 / 2000 [ 55%]  (Sampling) \n",
            "Chain 2 Iteration: 1200 / 2000 [ 60%]  (Sampling) \n",
            "Chain 2 Iteration: 1300 / 2000 [ 65%]  (Sampling) \n",
            "Chain 2 Iteration: 1400 / 2000 [ 70%]  (Sampling) \n",
            "Chain 2 Iteration: 1500 / 2000 [ 75%]  (Sampling) \n",
            "Chain 2 Iteration: 1600 / 2000 [ 80%]  (Sampling) \n",
            "Chain 2 Iteration: 1700 / 2000 [ 85%]  (Sampling) \n",
            "Chain 2 Iteration: 1800 / 2000 [ 90%]  (Sampling) \n",
            "Chain 2 Iteration: 1900 / 2000 [ 95%]  (Sampling) \n",
            "Chain 2 Iteration: 2000 / 2000 [100%]  (Sampling) \n",
            "Chain 2 finished in 0.0 seconds.\n",
            "Chain 3 Iteration:    1 / 2000 [  0%]  (Warmup) \n",
            "Chain 3 Iteration:  100 / 2000 [  5%]  (Warmup) \n",
            "Chain 3 Iteration:  200 / 2000 [ 10%]  (Warmup) \n",
            "Chain 3 Iteration:  300 / 2000 [ 15%]  (Warmup) \n",
            "Chain 3 Iteration:  400 / 2000 [ 20%]  (Warmup) \n",
            "Chain 3 Iteration:  500 / 2000 [ 25%]  (Warmup) \n",
            "Chain 3 Iteration:  600 / 2000 [ 30%]  (Warmup) \n",
            "Chain 3 Iteration:  700 / 2000 [ 35%]  (Warmup) \n",
            "Chain 3 Iteration:  800 / 2000 [ 40%]  (Warmup) \n",
            "Chain 3 Iteration:  900 / 2000 [ 45%]  (Warmup) \n",
            "Chain 3 Iteration: 1000 / 2000 [ 50%]  (Warmup) \n",
            "Chain 3 Iteration: 1001 / 2000 [ 50%]  (Sampling) \n",
            "Chain 3 Iteration: 1100 / 2000 [ 55%]  (Sampling) \n",
            "Chain 3 Iteration: 1200 / 2000 [ 60%]  (Sampling) \n",
            "Chain 3 Iteration: 1300 / 2000 [ 65%]  (Sampling) \n",
            "Chain 3 Iteration: 1400 / 2000 [ 70%]  (Sampling) \n",
            "Chain 3 Iteration: 1500 / 2000 [ 75%]  (Sampling) \n",
            "Chain 3 Iteration: 1600 / 2000 [ 80%]  (Sampling) \n",
            "Chain 3 Iteration: 1700 / 2000 [ 85%]  (Sampling) \n",
            "Chain 3 Iteration: 1800 / 2000 [ 90%]  (Sampling) \n",
            "Chain 3 Iteration: 1900 / 2000 [ 95%]  (Sampling) \n",
            "Chain 3 Iteration: 2000 / 2000 [100%]  (Sampling) \n",
            "Chain 3 finished in 0.0 seconds.\n",
            "Chain 4 Iteration:    1 / 2000 [  0%]  (Warmup) \n",
            "Chain 4 Iteration:  100 / 2000 [  5%]  (Warmup) \n",
            "Chain 4 Iteration:  200 / 2000 [ 10%]  (Warmup) \n",
            "Chain 4 Iteration:  300 / 2000 [ 15%]  (Warmup) \n",
            "Chain 4 Iteration:  400 / 2000 [ 20%]  (Warmup) \n",
            "Chain 4 Iteration:  500 / 2000 [ 25%]  (Warmup) \n",
            "Chain 4 Iteration:  600 / 2000 [ 30%]  (Warmup) \n",
            "Chain 4 Iteration:  700 / 2000 [ 35%]  (Warmup) \n",
            "Chain 4 Iteration:  800 / 2000 [ 40%]  (Warmup) \n",
            "Chain 4 Iteration:  900 / 2000 [ 45%]  (Warmup) \n",
            "Chain 4 Iteration: 1000 / 2000 [ 50%]  (Warmup) \n",
            "Chain 4 Iteration: 1001 / 2000 [ 50%]  (Sampling) \n",
            "Chain 4 Iteration: 1100 / 2000 [ 55%]  (Sampling) \n",
            "Chain 4 Iteration: 1200 / 2000 [ 60%]  (Sampling) \n",
            "Chain 4 Iteration: 1300 / 2000 [ 65%]  (Sampling) \n",
            "Chain 4 Iteration: 1400 / 2000 [ 70%]  (Sampling) \n",
            "Chain 4 Iteration: 1500 / 2000 [ 75%]  (Sampling) \n",
            "Chain 4 Iteration: 1600 / 2000 [ 80%]  (Sampling) \n",
            "Chain 4 Iteration: 1700 / 2000 [ 85%]  (Sampling) \n",
            "Chain 4 Iteration: 1800 / 2000 [ 90%]  (Sampling) \n",
            "Chain 4 Iteration: 1900 / 2000 [ 95%]  (Sampling) \n",
            "Chain 4 Iteration: 2000 / 2000 [100%]  (Sampling) \n",
            "Chain 4 finished in 0.0 seconds.\n",
            "\n",
            "All 4 chains finished successfully.\n",
            "Mean chain execution time: 0.0 seconds.\n",
            "Total execution time: 0.5 seconds.\n"
          ]
        }
      ]
    },
    {
      "cell_type": "code",
      "source": [
        "# Summary of the fitted model\n",
        "fit$summary()"
      ],
      "metadata": {
        "colab": {
          "base_uri": "https://localhost:8080/",
          "height": 192
        },
        "id": "dy2-ThKZcCHd",
        "outputId": "2013a55f-151b-4264-d130-c21b4775777d"
      },
      "execution_count": 26,
      "outputs": [
        {
          "output_type": "display_data",
          "data": {
            "text/plain": [
              "  variable    mean        median      sd        mad       q5         \n",
              "1 lp__          1.1255348   1.4961950 1.1968174 0.8421983  -1.2297925\n",
              "2 A_consensus 126.4756760 126.4710000 0.2418636 0.1853250 126.1309500\n",
              "3 dark_unc      0.5093679   0.4457125 0.2608316 0.1672299   0.2531943\n",
              "  q95         rhat     ess_bulk ess_tail\n",
              "1   2.2599865 1.000436 1310.415 1227.653\n",
              "2 126.8400000 1.003382 1517.391 1305.546\n",
              "3   0.9659609 1.001631 1565.073 1439.458"
            ],
            "text/latex": "A draws\\_summary: 3 × 10\n\\begin{tabular}{llllllllll}\n variable & mean & median & sd & mad & q5 & q95 & rhat & ess\\_bulk & ess\\_tail\\\\\n <chr> & <dbl> & <dbl> & <dbl> & <dbl> & <dbl> & <dbl> & <dbl> & <dbl> & <dbl>\\\\\n\\hline\n\t lp\\_\\_        &   1.1255348 &   1.4961950 & 1.1968174 & 0.8421983 &  -1.2297925 &   2.2599865 & 1.000436 & 1310.415 & 1227.653\\\\\n\t A\\_consensus & 126.4756760 & 126.4710000 & 0.2418636 & 0.1853250 & 126.1309500 & 126.8400000 & 1.003382 & 1517.391 & 1305.546\\\\\n\t dark\\_unc    &   0.5093679 &   0.4457125 & 0.2608316 & 0.1672299 &   0.2531943 &   0.9659609 & 1.001631 & 1565.073 & 1439.458\\\\\n\\end{tabular}\n",
            "text/markdown": "\nA draws_summary: 3 × 10\n\n| variable &lt;chr&gt; | mean &lt;dbl&gt; | median &lt;dbl&gt; | sd &lt;dbl&gt; | mad &lt;dbl&gt; | q5 &lt;dbl&gt; | q95 &lt;dbl&gt; | rhat &lt;dbl&gt; | ess_bulk &lt;dbl&gt; | ess_tail &lt;dbl&gt; |\n|---|---|---|---|---|---|---|---|---|---|\n| lp__        |   1.1255348 |   1.4961950 | 1.1968174 | 0.8421983 |  -1.2297925 |   2.2599865 | 1.000436 | 1310.415 | 1227.653 |\n| A_consensus | 126.4756760 | 126.4710000 | 0.2418636 | 0.1853250 | 126.1309500 | 126.8400000 | 1.003382 | 1517.391 | 1305.546 |\n| dark_unc    |   0.5093679 |   0.4457125 | 0.2608316 | 0.1672299 |   0.2531943 |   0.9659609 | 1.001631 | 1565.073 | 1439.458 |\n\n",
            "text/html": [
              "<table class=\"dataframe\">\n",
              "<caption>A draws_summary: 3 × 10</caption>\n",
              "<thead>\n",
              "\t<tr><th scope=col>variable</th><th scope=col>mean</th><th scope=col>median</th><th scope=col>sd</th><th scope=col>mad</th><th scope=col>q5</th><th scope=col>q95</th><th scope=col>rhat</th><th scope=col>ess_bulk</th><th scope=col>ess_tail</th></tr>\n",
              "\t<tr><th scope=col>&lt;chr&gt;</th><th scope=col>&lt;dbl&gt;</th><th scope=col>&lt;dbl&gt;</th><th scope=col>&lt;dbl&gt;</th><th scope=col>&lt;dbl&gt;</th><th scope=col>&lt;dbl&gt;</th><th scope=col>&lt;dbl&gt;</th><th scope=col>&lt;dbl&gt;</th><th scope=col>&lt;dbl&gt;</th><th scope=col>&lt;dbl&gt;</th></tr>\n",
              "</thead>\n",
              "<tbody>\n",
              "\t<tr><td>lp__       </td><td>  1.1255348</td><td>  1.4961950</td><td>1.1968174</td><td>0.8421983</td><td> -1.2297925</td><td>  2.2599865</td><td>1.000436</td><td>1310.415</td><td>1227.653</td></tr>\n",
              "\t<tr><td>A_consensus</td><td>126.4756760</td><td>126.4710000</td><td>0.2418636</td><td>0.1853250</td><td>126.1309500</td><td>126.8400000</td><td>1.003382</td><td>1517.391</td><td>1305.546</td></tr>\n",
              "\t<tr><td>dark_unc   </td><td>  0.5093679</td><td>  0.4457125</td><td>0.2608316</td><td>0.1672299</td><td>  0.2531943</td><td>  0.9659609</td><td>1.001631</td><td>1565.073</td><td>1439.458</td></tr>\n",
              "</tbody>\n",
              "</table>\n"
            ]
          },
          "metadata": {}
        }
      ]
    },
    {
      "cell_type": "code",
      "source": [
        "# Draw posterior probability densities for model parameters A_consensus and dark_unc\n",
        "par(mfrow=c(1,2))\n",
        "hist(fit$draws()[,,\"A_consensus\"], main='Posterior distribution', breaks=20, xlab='A_consensus');box()\n",
        "hist(fit$draws()[,,\"dark_unc\"], main='Posterior distribution', breaks=40, xlab='dark_unc', xlim=c(0,2));box()"
      ],
      "metadata": {
        "colab": {
          "base_uri": "https://localhost:8080/",
          "height": 437
        },
        "id": "IXC8mvjaunGA",
        "outputId": "df4dc89a-ef27-4a39-a05d-a123df3d78e6"
      },
      "execution_count": 31,
      "outputs": [
        {
          "output_type": "display_data",
          "data": {
            "image/png": "[encoded data removed]",
            "text/plain": [
              "Plot with title “Posterior distribution”"
            ]
          },
          "metadata": {
            "image/png": {
              "width": 420,
              "height": 420
            }
          }
        }
      ]
    }
  ]
}